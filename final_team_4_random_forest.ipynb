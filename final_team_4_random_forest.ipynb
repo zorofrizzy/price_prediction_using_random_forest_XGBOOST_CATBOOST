{
 "cells": [
  {
   "cell_type": "code",
   "execution_count": 4,
   "id": "2bff6251",
   "metadata": {},
   "outputs": [],
   "source": [
    "import pandas as pd\n",
    "import seaborn as sns\n",
    "import matplotlib.pyplot as plt\n",
    "from datetime import datetime \n",
    "import numpy as np\n",
    "from sklearn.metrics import mean_squared_error, explained_variance_score\n",
    "import math\n",
    "#from sklearn.externals import joblib\n",
    "\n",
    "#Label Encoding\n",
    "#from sklearn import preprocessing\n",
    "\n",
    "from sklearn.ensemble import RandomForestRegressor\n",
    "from sklearn.model_selection import train_test_split\n",
    "\n",
    "\n",
    "#To check for model training time\n",
    "import time\n",
    "\n",
    "pd.options.display.max_rows = None\n",
    "pd.options.display.max_columns = None"
   ]
  },
  {
   "cell_type": "code",
   "execution_count": 5,
   "id": "acf6d7c1",
   "metadata": {},
   "outputs": [],
   "source": [
    "df = pd.read_csv(r'F:\\Kabir\\CSUN\\Comp542\\sampled_and_preprocessed_csv_team_4.csv')"
   ]
  },
  {
   "cell_type": "code",
   "execution_count": 6,
   "id": "482e7346",
   "metadata": {},
   "outputs": [
    {
     "data": {
      "text/html": [
       "<div>\n",
       "<style scoped>\n",
       "    .dataframe tbody tr th:only-of-type {\n",
       "        vertical-align: middle;\n",
       "    }\n",
       "\n",
       "    .dataframe tbody tr th {\n",
       "        vertical-align: top;\n",
       "    }\n",
       "\n",
       "    .dataframe thead th {\n",
       "        text-align: right;\n",
       "    }\n",
       "</style>\n",
       "<table border=\"1\" class=\"dataframe\">\n",
       "  <thead>\n",
       "    <tr style=\"text-align: right;\">\n",
       "      <th></th>\n",
       "      <th>source</th>\n",
       "      <th>destination</th>\n",
       "      <th>cab_type</th>\n",
       "      <th>product_id</th>\n",
       "      <th>name</th>\n",
       "      <th>price</th>\n",
       "      <th>distance</th>\n",
       "      <th>surge_multiplier</th>\n",
       "      <th>humidity</th>\n",
       "      <th>visibility</th>\n",
       "      <th>icon</th>\n",
       "      <th>windBearing</th>\n",
       "      <th>moonPhase</th>\n",
       "      <th>precipIntensityMax</th>\n",
       "    </tr>\n",
       "  </thead>\n",
       "  <tbody>\n",
       "    <tr>\n",
       "      <th>0</th>\n",
       "      <td>5</td>\n",
       "      <td>7</td>\n",
       "      <td>0</td>\n",
       "      <td>6</td>\n",
       "      <td>5</td>\n",
       "      <td>7.0</td>\n",
       "      <td>0.44</td>\n",
       "      <td>1.0</td>\n",
       "      <td>0.75</td>\n",
       "      <td>10.000</td>\n",
       "      <td>1</td>\n",
       "      <td>240</td>\n",
       "      <td>0.68</td>\n",
       "      <td>0.1064</td>\n",
       "    </tr>\n",
       "    <tr>\n",
       "      <th>1</th>\n",
       "      <td>5</td>\n",
       "      <td>7</td>\n",
       "      <td>0</td>\n",
       "      <td>10</td>\n",
       "      <td>6</td>\n",
       "      <td>9.0</td>\n",
       "      <td>0.44</td>\n",
       "      <td>1.0</td>\n",
       "      <td>0.70</td>\n",
       "      <td>10.000</td>\n",
       "      <td>5</td>\n",
       "      <td>303</td>\n",
       "      <td>0.72</td>\n",
       "      <td>0.0001</td>\n",
       "    </tr>\n",
       "    <tr>\n",
       "      <th>2</th>\n",
       "      <td>0</td>\n",
       "      <td>8</td>\n",
       "      <td>0</td>\n",
       "      <td>6</td>\n",
       "      <td>5</td>\n",
       "      <td>7.0</td>\n",
       "      <td>1.08</td>\n",
       "      <td>1.0</td>\n",
       "      <td>0.63</td>\n",
       "      <td>10.000</td>\n",
       "      <td>2</td>\n",
       "      <td>295</td>\n",
       "      <td>0.72</td>\n",
       "      <td>0.0000</td>\n",
       "    </tr>\n",
       "    <tr>\n",
       "      <th>3</th>\n",
       "      <td>6</td>\n",
       "      <td>11</td>\n",
       "      <td>1</td>\n",
       "      <td>0</td>\n",
       "      <td>9</td>\n",
       "      <td>7.5</td>\n",
       "      <td>1.11</td>\n",
       "      <td>1.0</td>\n",
       "      <td>0.56</td>\n",
       "      <td>9.959</td>\n",
       "      <td>4</td>\n",
       "      <td>76</td>\n",
       "      <td>0.21</td>\n",
       "      <td>0.0001</td>\n",
       "    </tr>\n",
       "    <tr>\n",
       "      <th>4</th>\n",
       "      <td>6</td>\n",
       "      <td>11</td>\n",
       "      <td>1</td>\n",
       "      <td>5</td>\n",
       "      <td>11</td>\n",
       "      <td>7.5</td>\n",
       "      <td>1.11</td>\n",
       "      <td>1.0</td>\n",
       "      <td>0.86</td>\n",
       "      <td>4.054</td>\n",
       "      <td>6</td>\n",
       "      <td>57</td>\n",
       "      <td>0.30</td>\n",
       "      <td>0.1252</td>\n",
       "    </tr>\n",
       "  </tbody>\n",
       "</table>\n",
       "</div>"
      ],
      "text/plain": [
       "   source  destination  cab_type  product_id  name  price  distance  \\\n",
       "0       5            7         0           6     5    7.0      0.44   \n",
       "1       5            7         0          10     6    9.0      0.44   \n",
       "2       0            8         0           6     5    7.0      1.08   \n",
       "3       6           11         1           0     9    7.5      1.11   \n",
       "4       6           11         1           5    11    7.5      1.11   \n",
       "\n",
       "   surge_multiplier  humidity  visibility  icon  windBearing  moonPhase  \\\n",
       "0               1.0      0.75      10.000     1          240       0.68   \n",
       "1               1.0      0.70      10.000     5          303       0.72   \n",
       "2               1.0      0.63      10.000     2          295       0.72   \n",
       "3               1.0      0.56       9.959     4           76       0.21   \n",
       "4               1.0      0.86       4.054     6           57       0.30   \n",
       "\n",
       "   precipIntensityMax  \n",
       "0              0.1064  \n",
       "1              0.0001  \n",
       "2              0.0000  \n",
       "3              0.0001  \n",
       "4              0.1252  "
      ]
     },
     "execution_count": 6,
     "metadata": {},
     "output_type": "execute_result"
    }
   ],
   "source": [
    "df.head()"
   ]
  },
  {
   "cell_type": "code",
   "execution_count": 7,
   "id": "c2f0969d",
   "metadata": {},
   "outputs": [
    {
     "name": "stdout",
     "output_type": "stream",
     "text": [
      "<class 'pandas.core.frame.DataFrame'>\n",
      "RangeIndex: 4997 entries, 0 to 4996\n",
      "Data columns (total 14 columns):\n",
      " #   Column              Non-Null Count  Dtype  \n",
      "---  ------              --------------  -----  \n",
      " 0   source              4997 non-null   int64  \n",
      " 1   destination         4997 non-null   int64  \n",
      " 2   cab_type            4997 non-null   int64  \n",
      " 3   product_id          4997 non-null   int64  \n",
      " 4   name                4997 non-null   int64  \n",
      " 5   price               4997 non-null   float64\n",
      " 6   distance            4997 non-null   float64\n",
      " 7   surge_multiplier    4997 non-null   float64\n",
      " 8   humidity            4997 non-null   float64\n",
      " 9   visibility          4997 non-null   float64\n",
      " 10  icon                4997 non-null   int64  \n",
      " 11  windBearing         4997 non-null   int64  \n",
      " 12  moonPhase           4997 non-null   float64\n",
      " 13  precipIntensityMax  4997 non-null   float64\n",
      "dtypes: float64(7), int64(7)\n",
      "memory usage: 546.7 KB\n"
     ]
    }
   ],
   "source": [
    "df.info()"
   ]
  },
  {
   "cell_type": "code",
   "execution_count": 8,
   "id": "01e3162e",
   "metadata": {},
   "outputs": [
    {
     "data": {
      "text/html": [
       "<div>\n",
       "<style scoped>\n",
       "    .dataframe tbody tr th:only-of-type {\n",
       "        vertical-align: middle;\n",
       "    }\n",
       "\n",
       "    .dataframe tbody tr th {\n",
       "        vertical-align: top;\n",
       "    }\n",
       "\n",
       "    .dataframe thead th {\n",
       "        text-align: right;\n",
       "    }\n",
       "</style>\n",
       "<table border=\"1\" class=\"dataframe\">\n",
       "  <thead>\n",
       "    <tr style=\"text-align: right;\">\n",
       "      <th></th>\n",
       "      <th>source</th>\n",
       "      <th>destination</th>\n",
       "      <th>cab_type</th>\n",
       "      <th>product_id</th>\n",
       "      <th>name</th>\n",
       "      <th>price</th>\n",
       "      <th>distance</th>\n",
       "      <th>surge_multiplier</th>\n",
       "      <th>humidity</th>\n",
       "      <th>visibility</th>\n",
       "      <th>icon</th>\n",
       "      <th>windBearing</th>\n",
       "      <th>moonPhase</th>\n",
       "      <th>precipIntensityMax</th>\n",
       "    </tr>\n",
       "  </thead>\n",
       "  <tbody>\n",
       "    <tr>\n",
       "      <th>4992</th>\n",
       "      <td>8</td>\n",
       "      <td>4</td>\n",
       "      <td>1</td>\n",
       "      <td>2</td>\n",
       "      <td>1</td>\n",
       "      <td>42.5</td>\n",
       "      <td>4.53</td>\n",
       "      <td>1.0</td>\n",
       "      <td>0.68</td>\n",
       "      <td>10.000</td>\n",
       "      <td>5</td>\n",
       "      <td>45</td>\n",
       "      <td>0.27</td>\n",
       "      <td>0.0074</td>\n",
       "    </tr>\n",
       "    <tr>\n",
       "      <th>4993</th>\n",
       "      <td>2</td>\n",
       "      <td>4</td>\n",
       "      <td>1</td>\n",
       "      <td>2</td>\n",
       "      <td>1</td>\n",
       "      <td>41.5</td>\n",
       "      <td>4.72</td>\n",
       "      <td>1.0</td>\n",
       "      <td>0.69</td>\n",
       "      <td>10.000</td>\n",
       "      <td>4</td>\n",
       "      <td>242</td>\n",
       "      <td>0.89</td>\n",
       "      <td>0.0007</td>\n",
       "    </tr>\n",
       "    <tr>\n",
       "      <th>4994</th>\n",
       "      <td>2</td>\n",
       "      <td>4</td>\n",
       "      <td>1</td>\n",
       "      <td>2</td>\n",
       "      <td>1</td>\n",
       "      <td>40.5</td>\n",
       "      <td>4.76</td>\n",
       "      <td>1.0</td>\n",
       "      <td>0.51</td>\n",
       "      <td>9.898</td>\n",
       "      <td>4</td>\n",
       "      <td>165</td>\n",
       "      <td>0.24</td>\n",
       "      <td>0.0000</td>\n",
       "    </tr>\n",
       "    <tr>\n",
       "      <th>4995</th>\n",
       "      <td>4</td>\n",
       "      <td>3</td>\n",
       "      <td>1</td>\n",
       "      <td>2</td>\n",
       "      <td>1</td>\n",
       "      <td>42.0</td>\n",
       "      <td>4.48</td>\n",
       "      <td>1.0</td>\n",
       "      <td>0.69</td>\n",
       "      <td>9.732</td>\n",
       "      <td>2</td>\n",
       "      <td>272</td>\n",
       "      <td>0.33</td>\n",
       "      <td>0.0178</td>\n",
       "    </tr>\n",
       "    <tr>\n",
       "      <th>4996</th>\n",
       "      <td>2</td>\n",
       "      <td>0</td>\n",
       "      <td>0</td>\n",
       "      <td>7</td>\n",
       "      <td>7</td>\n",
       "      <td>2.5</td>\n",
       "      <td>1.53</td>\n",
       "      <td>1.0</td>\n",
       "      <td>0.69</td>\n",
       "      <td>10.000</td>\n",
       "      <td>2</td>\n",
       "      <td>293</td>\n",
       "      <td>0.72</td>\n",
       "      <td>0.0001</td>\n",
       "    </tr>\n",
       "  </tbody>\n",
       "</table>\n",
       "</div>"
      ],
      "text/plain": [
       "      source  destination  cab_type  product_id  name  price  distance  \\\n",
       "4992       8            4         1           2     1   42.5      4.53   \n",
       "4993       2            4         1           2     1   41.5      4.72   \n",
       "4994       2            4         1           2     1   40.5      4.76   \n",
       "4995       4            3         1           2     1   42.0      4.48   \n",
       "4996       2            0         0           7     7    2.5      1.53   \n",
       "\n",
       "      surge_multiplier  humidity  visibility  icon  windBearing  moonPhase  \\\n",
       "4992               1.0      0.68      10.000     5           45       0.27   \n",
       "4993               1.0      0.69      10.000     4          242       0.89   \n",
       "4994               1.0      0.51       9.898     4          165       0.24   \n",
       "4995               1.0      0.69       9.732     2          272       0.33   \n",
       "4996               1.0      0.69      10.000     2          293       0.72   \n",
       "\n",
       "      precipIntensityMax  \n",
       "4992              0.0074  \n",
       "4993              0.0007  \n",
       "4994              0.0000  \n",
       "4995              0.0178  \n",
       "4996              0.0001  "
      ]
     },
     "execution_count": 8,
     "metadata": {},
     "output_type": "execute_result"
    }
   ],
   "source": [
    "df.tail()"
   ]
  },
  {
   "cell_type": "code",
   "execution_count": 9,
   "id": "d25f3561",
   "metadata": {},
   "outputs": [
    {
     "name": "stdout",
     "output_type": "stream",
     "text": [
      "List X :  ['source', 'destination', 'cab_type', 'product_id', 'name', 'distance', 'surge_multiplier', 'humidity', 'visibility', 'icon', 'windBearing', 'moonPhase', 'precipIntensityMax'] \n",
      "List Y : ['price']\n"
     ]
    }
   ],
   "source": [
    "list_of_columns = list(df.columns)\n",
    "#print(\"list of cols\", list_of_columns, type(list_of_columns))\n",
    "list_of_columns.remove('price')\n",
    "x_columns = list_of_columns\n",
    "y_columns = ['price']\n",
    "print('List X : ', x_columns,'\\nList Y :', y_columns)"
   ]
  },
  {
   "cell_type": "code",
   "execution_count": 10,
   "id": "30cf9f72",
   "metadata": {},
   "outputs": [
    {
     "name": "stdout",
     "output_type": "stream",
     "text": [
      "X DF :     source  destination  cab_type  product_id  name  distance  \\\n",
      "0       5            7         0           6     5      0.44   \n",
      "1       5            7         0          10     6      0.44   \n",
      "2       0            8         0           6     5      1.08   \n",
      "3       6           11         1           0     9      1.11   \n",
      "4       6           11         1           5    11      1.11   \n",
      "\n",
      "   surge_multiplier  humidity  visibility  icon  windBearing  moonPhase  \\\n",
      "0               1.0      0.75      10.000     1          240       0.68   \n",
      "1               1.0      0.70      10.000     5          303       0.72   \n",
      "2               1.0      0.63      10.000     2          295       0.72   \n",
      "3               1.0      0.56       9.959     4           76       0.21   \n",
      "4               1.0      0.86       4.054     6           57       0.30   \n",
      "\n",
      "   precipIntensityMax  \n",
      "0              0.1064  \n",
      "1              0.0001  \n",
      "2              0.0000  \n",
      "3              0.0001  \n",
      "4              0.1252  \n",
      "Y DF :     price\n",
      "0    7.0\n",
      "1    9.0\n",
      "2    7.0\n",
      "3    7.5\n",
      "4    7.5\n"
     ]
    }
   ],
   "source": [
    "#Splitting DF.\n",
    "\n",
    "x = df[x_columns]\n",
    "y = df[y_columns]\n",
    "print('X DF : ', x.head())\n",
    "print('Y DF : ',y.head())"
   ]
  },
  {
   "cell_type": "code",
   "execution_count": 11,
   "id": "a30f3819",
   "metadata": {},
   "outputs": [],
   "source": [
    "# Split dataset to training and test set\n",
    "X_train, X_test, y_train, y_test = train_test_split(x, y, test_size = 0.3, random_state = 0)"
   ]
  },
  {
   "cell_type": "code",
   "execution_count": 13,
   "id": "cb82c20d",
   "metadata": {
    "scrolled": true
   },
   "outputs": [
    {
     "name": "stderr",
     "output_type": "stream",
     "text": [
      "C:\\Users\\isha\\zoro_venv\\Lib\\site-packages\\sklearn\\base.py:1151: DataConversionWarning: A column-vector y was passed when a 1d array was expected. Please change the shape of y to (n_samples,), for example using ravel().\n",
      "  return fit_method(estimator, *args, **kwargs)\n"
     ]
    },
    {
     "name": "stdout",
     "output_type": "stream",
     "text": [
      "Model training Time (seconds):  0.84\n"
     ]
    }
   ],
   "source": [
    "# Fit Regression Model\n",
    "start_time = time.time()\n",
    "reg = RandomForestRegressor(n_estimators=70, max_depth=30, n_jobs=-1, warm_start=True, oob_score=True)\n",
    "reg.fit(X_train,y_train)\n",
    "end_time = time.time()\n",
    "\n",
    "print(\"Model training Time (seconds): \", round(end_time - start_time, 2))"
   ]
  },
  {
   "cell_type": "code",
   "execution_count": 14,
   "id": "c7ee6858",
   "metadata": {},
   "outputs": [],
   "source": [
    "# Calculate Training and Test Accuracy\n",
    "training_accuracy = reg.score(X_train, y_train)\n",
    "test_accuracy = reg.score(X_test, y_test)"
   ]
  },
  {
   "cell_type": "code",
   "execution_count": 27,
   "id": "dfcd9564",
   "metadata": {},
   "outputs": [
    {
     "name": "stdout",
     "output_type": "stream",
     "text": [
      "Training Accuracy = 0.994 \n",
      "Test Accuracy = 0.963 \n",
      "RMSE (train) = 0.707 \n",
      "RMSE (test) = 1.665 \n",
      "MSE (train) = 0.500 \n",
      "MSE (test) = 2.772\n"
     ]
    }
   ],
   "source": [
    "# Calculate Root mean squared error\n",
    "mse_train = mean_squared_error(reg.predict(X_train),y_train)\n",
    "rmse_train = np.sqrt(mse_train)\n",
    "\n",
    "mse_test = mean_squared_error(reg.predict(X_test),y_test)\n",
    "rmse_test = np.sqrt(mse_test)\n",
    "print(\"Training Accuracy = %0.3f \\nTest Accuracy = %0.3f \\nRMSE (train) = %0.3f \\nRMSE (test) = %0.3f \\nMSE (train) = %0.3f \\nMSE (test) = %0.3f\"\\\n",
    "      % (training_accuracy, test_accuracy, rmse_train, rmse_test, mse_train, mse_test))"
   ]
  },
  {
   "cell_type": "code",
   "execution_count": 16,
   "id": "eb2de929",
   "metadata": {},
   "outputs": [
    {
     "name": "stdout",
     "output_type": "stream",
     "text": [
      "Out of Bag Score = 0.954\n"
     ]
    }
   ],
   "source": [
    "print(\"Out of Bag Score = %0.3f\" %(reg.oob_score_))"
   ]
  },
  {
   "cell_type": "code",
   "execution_count": 17,
   "id": "6e30e163",
   "metadata": {},
   "outputs": [
    {
     "data": {
      "text/plain": [
       "['F:\\\\Kabir\\\\CSUN\\\\Comp542\\\\trained_random_forest_final_full_team_4.pkl']"
      ]
     },
     "execution_count": 17,
     "metadata": {},
     "output_type": "execute_result"
    }
   ],
   "source": [
    "import joblib\n",
    "\n",
    "\n",
    "joblib.dump(reg, r'F:\\Kabir\\CSUN\\Comp542\\trained_random_forest_final_full_team_4.pkl')"
   ]
  },
  {
   "cell_type": "code",
   "execution_count": 25,
   "id": "acdc2174",
   "metadata": {
    "scrolled": false
   },
   "outputs": [
    {
     "data": {
      "image/png": "[encoded data removed]",
      "text/plain": [
       "<Figure size 640x480 with 1 Axes>"
      ]
     },
     "metadata": {},
     "output_type": "display_data"
    },
    {
     "name": "stdout",
     "output_type": "stream",
     "text": [
      "Tree Plotting Time (seconds) :  217.24\n"
     ]
    }
   ],
   "source": [
    "start_time = time.time()\n",
    "\n",
    "#fig, axes = plt.subplots(nrows = 1, ncols = 1, figsize = (4,4), dpi = 300)\n",
    "\n",
    "plt.figure()\n",
    "from sklearn import tree\n",
    "tree.plot_tree(reg.estimators_[0])\n",
    "plt.savefig(r'F:\\Kabir\\CSUN\\Comp542\\RF_team_4_tree.eps',format='eps',bbox_inches = \"tight\")\n",
    "plt.show()\n",
    "#fig.savefig(r'F:\\Kabir\\CSUN\\Comp542\\rf_tree_full.png')\n",
    "end_time = time.time()\n",
    "\n",
    "print(\"Tree Plotting Time (seconds) : \", round(end_time - start_time, 2))"
   ]
  },
  {
   "cell_type": "code",
   "execution_count": 26,
   "id": "583377ac",
   "metadata": {},
   "outputs": [
    {
     "name": "stdout",
     "output_type": "stream",
     "text": [
      "EXP Variance Score Train :  0.9933978301901838\n",
      "EXP Variance Score Test :  0.962688249317548\n"
     ]
    }
   ],
   "source": [
    "print(\"EXP Variance Score Train : \", explained_variance_score(reg.predict(X_train),y_train))\n",
    "print(\"EXP Variance Score Test : \", explained_variance_score(reg.predict(X_test),y_test))"
   ]
  }
 ],
 "metadata": {
  "kernelspec": {
   "display_name": "Python 3 (ipykernel)",
   "language": "python",
   "name": "python3"
  },
  "language_info": {
   "codemirror_mode": {
    "name": "ipython",
    "version": 3
   },
   "file_extension": ".py",
   "mimetype": "text/x-python",
   "name": "python",
   "nbconvert_exporter": "python",
   "pygments_lexer": "ipython3",
   "version": "3.11.4"
  }
 },
 "nbformat": 4,
 "nbformat_minor": 5
}
